{
 "cells": [
  {
   "cell_type": "markdown",
   "metadata": {},
   "source": [
    "## Working with Jupyter Notebooks in the Cloud\n",
    "\n",
    "This notebook is intended to demonstrate how to work with Jupyter in the cloud rather than locally on your own machine. Create a new markdown cell below this one by clicking on the \"+\" icon directly above (not to the left) of this notebook. To change the cell from code to markdown, select \"Markdown\" under \"Code\" in the top menu. Type something into it, and run the cell. After you've done that, run the code cell below."
   ]
  },
  {
   "cell_type": "code",
   "execution_count": null,
   "metadata": {},
   "outputs": [],
   "source": [
    "print(\"hello world\")"
   ]
  },
  {
   "cell_type": "markdown",
   "metadata": {},
   "source": [
    "Go to the Project Gutenberg copy of Jane Austen's Pride and Prejudice in UTF-8 format: https://www.gutenberg.org/files/1342/1342-0.txt  \n",
    "\n",
    "Open the text editor on your machine. Copy and paste the entire contents from the novel into a new document in the text editor. Save the file as \"austen_pride\" Make sure you have a .txt file extension. Once you've done that return to this notebook and click the \"up\" arrow at the top of the lefthand menu. Browse for your \"austen_pride.txt\" file and upload it. Then open it in the following two code cells:"
   ]
  },
  {
   "cell_type": "code",
   "execution_count": null,
   "metadata": {},
   "outputs": [],
   "source": [
    "x = open(\"austen_pride.txt\").read()"
   ]
  },
  {
   "cell_type": "code",
   "execution_count": null,
   "metadata": {},
   "outputs": [],
   "source": [
    "print(x[:2000])"
   ]
  },
  {
   "cell_type": "markdown",
   "metadata": {},
   "source": [
    "Once you've done that, click \"Save Notebook As\" from the \"Files\" menu in the lefthand side. Save the notebook as \"test_notebook2\". It will appear in the list of files in the lefthand column. Click on it to open it. Then click the \"Download\" button at the top of the window to download it to your own computer.  \n",
    "\n",
    "Once you've downloaded your saved copy, you should close the notebook in the cloud, then relaunch it. Click the \"up arrow\" icon in the top left menu and upload both your \"test_notebook2.ipynb\" file and your \"austen_pride.txt\" file. Open the test notebook you've just uploaded, which you'll see in the lefthand menu. All your previous work should be intact so that you can continue to work with the notebook. Save everything each time you work with it in the cloud, repeating the steps we just followed. "
   ]
  },
  {
   "cell_type": "code",
   "execution_count": null,
   "metadata": {},
   "outputs": [],
   "source": []
  }
 ],
 "metadata": {
  "kernelspec": {
   "display_name": "Python 3",
   "language": "python",
   "name": "python3"
  },
  "language_info": {
   "codemirror_mode": {
    "name": "ipython",
    "version": 3
   },
   "file_extension": ".py",
   "mimetype": "text/x-python",
   "name": "python",
   "nbconvert_exporter": "python",
   "pygments_lexer": "ipython3",
   "version": "3.7.6"
  }
 },
 "nbformat": 4,
 "nbformat_minor": 4
}
